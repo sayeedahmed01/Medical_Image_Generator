{
 "cells": [
  {
   "cell_type": "code",
   "execution_count": 5,
   "id": "initial_id",
   "metadata": {
    "ExecuteTime": {
     "end_time": "2024-08-08T21:35:12.645556Z",
     "start_time": "2024-08-08T21:35:12.628558Z"
    },
    "collapsed": true
   },
   "outputs": [],
   "source": [
    "import pandas as pd\n",
    "import os"
   ]
  },
  {
   "cell_type": "code",
   "execution_count": 8,
   "id": "d2f377b758185460",
   "metadata": {
    "ExecuteTime": {
     "end_time": "2024-08-08T21:36:21.175220Z",
     "start_time": "2024-08-08T21:36:21.162327Z"
    }
   },
   "outputs": [
    {
     "name": "stdout",
     "output_type": "stream",
     "text": [
      "/Users/sayeedahmed/IdeaProjects/Medical_Image_Generator/data/scripts\n"
     ]
    }
   ],
   "source": [
    "print(os.getcwd())"
   ]
  },
  {
   "cell_type": "code",
   "execution_count": 14,
   "id": "bf0ca1378dd7fa1b",
   "metadata": {
    "ExecuteTime": {
     "end_time": "2024-08-08T21:38:42.585334Z",
     "start_time": "2024-08-08T21:38:42.566839Z"
    }
   },
   "outputs": [
    {
     "data": {
      "text/plain": [
       "'/Users/sayeedahmed/IdeaProjects/Medical_Image_Generator/data'"
      ]
     },
     "execution_count": 14,
     "metadata": {},
     "output_type": "execute_result"
    }
   ],
   "source": [
    "project_root = os.path.abspath(os.path.join(os.getcwd(), '..'))\n",
    "project_root"
   ]
  },
  {
   "cell_type": "code",
   "execution_count": 15,
   "id": "c7edce18c85fb038",
   "metadata": {
    "ExecuteTime": {
     "end_time": "2024-08-08T21:38:58.122291Z",
     "start_time": "2024-08-08T21:38:58.112612Z"
    }
   },
   "outputs": [],
   "source": [
    "# Setting the directory paths\n",
    "training_data_dir = os.path.join(project_root, 'training_data')\n",
    "training_imgs_dir = os.path.join(training_data_dir, 'training_imgs')\n",
    "metadata_path = os.path.join(training_data_dir, 'metadata.csv')"
   ]
  },
  {
   "cell_type": "markdown",
   "id": "31d2f3c9201edec4",
   "metadata": {},
   "source": [
    "## Metadata for the training data"
   ]
  },
  {
   "cell_type": "code",
   "execution_count": 22,
   "id": "e8428d61de42b1c9",
   "metadata": {
    "ExecuteTime": {
     "end_time": "2024-08-08T21:40:36.402487Z",
     "start_time": "2024-08-08T21:40:36.372907Z"
    }
   },
   "outputs": [
    {
     "data": {
      "text/html": [
       "<div>\n",
       "<style scoped>\n",
       "    .dataframe tbody tr th:only-of-type {\n",
       "        vertical-align: middle;\n",
       "    }\n",
       "\n",
       "    .dataframe tbody tr th {\n",
       "        vertical-align: top;\n",
       "    }\n",
       "\n",
       "    .dataframe thead th {\n",
       "        text-align: right;\n",
       "    }\n",
       "</style>\n",
       "<table border=\"1\" class=\"dataframe\">\n",
       "  <thead>\n",
       "    <tr style=\"text-align: right;\">\n",
       "      <th></th>\n",
       "      <th>image_path</th>\n",
       "      <th>text</th>\n",
       "    </tr>\n",
       "  </thead>\n",
       "  <tbody>\n",
       "    <tr>\n",
       "      <th>0</th>\n",
       "      <td>training_imgs/-4548551644236086193.png</td>\n",
       "      <td>a close up photo of herpes simplex skin condit...</td>\n",
       "    </tr>\n",
       "    <tr>\n",
       "      <th>1</th>\n",
       "      <td>training_imgs/8938987404946448422.png</td>\n",
       "      <td>a at distance photo of herpes simplex skin con...</td>\n",
       "    </tr>\n",
       "    <tr>\n",
       "      <th>2</th>\n",
       "      <td>training_imgs/-1340575480650711275.png</td>\n",
       "      <td>a at distance photo of herpes simplex skin con...</td>\n",
       "    </tr>\n",
       "    <tr>\n",
       "      <th>3</th>\n",
       "      <td>training_imgs/-1545090829447090603.png</td>\n",
       "      <td>a at distance photo of herpes simplex skin con...</td>\n",
       "    </tr>\n",
       "    <tr>\n",
       "      <th>4</th>\n",
       "      <td>training_imgs/2761011390199798183.png</td>\n",
       "      <td>a at distance photo of herpes simplex skin con...</td>\n",
       "    </tr>\n",
       "    <tr>\n",
       "      <th>...</th>\n",
       "      <td>...</td>\n",
       "      <td>...</td>\n",
       "    </tr>\n",
       "    <tr>\n",
       "      <th>432</th>\n",
       "      <td>training_imgs/2432074176479085493.png</td>\n",
       "      <td>a close up photo of folliculitis skin conditio...</td>\n",
       "    </tr>\n",
       "    <tr>\n",
       "      <th>433</th>\n",
       "      <td>training_imgs/1633175637881662694.png</td>\n",
       "      <td>a at an angle photo of folliculitis skin condi...</td>\n",
       "    </tr>\n",
       "    <tr>\n",
       "      <th>434</th>\n",
       "      <td>training_imgs/-3334185101988508211.png</td>\n",
       "      <td>a close up photo of folliculitis skin conditio...</td>\n",
       "    </tr>\n",
       "    <tr>\n",
       "      <th>435</th>\n",
       "      <td>training_imgs/-487619432479533708.png</td>\n",
       "      <td>a at distance photo of folliculitis skin condi...</td>\n",
       "    </tr>\n",
       "    <tr>\n",
       "      <th>436</th>\n",
       "      <td>training_imgs/7980844269689605309.png</td>\n",
       "      <td>a close up photo of folliculitis skin conditio...</td>\n",
       "    </tr>\n",
       "  </tbody>\n",
       "</table>\n",
       "<p>437 rows × 2 columns</p>\n",
       "</div>"
      ],
      "text/plain": [
       "                                 image_path  \\\n",
       "0    training_imgs/-4548551644236086193.png   \n",
       "1     training_imgs/8938987404946448422.png   \n",
       "2    training_imgs/-1340575480650711275.png   \n",
       "3    training_imgs/-1545090829447090603.png   \n",
       "4     training_imgs/2761011390199798183.png   \n",
       "..                                      ...   \n",
       "432   training_imgs/2432074176479085493.png   \n",
       "433   training_imgs/1633175637881662694.png   \n",
       "434  training_imgs/-3334185101988508211.png   \n",
       "435   training_imgs/-487619432479533708.png   \n",
       "436   training_imgs/7980844269689605309.png   \n",
       "\n",
       "                                                  text  \n",
       "0    a close up photo of herpes simplex skin condit...  \n",
       "1    a at distance photo of herpes simplex skin con...  \n",
       "2    a at distance photo of herpes simplex skin con...  \n",
       "3    a at distance photo of herpes simplex skin con...  \n",
       "4    a at distance photo of herpes simplex skin con...  \n",
       "..                                                 ...  \n",
       "432  a close up photo of folliculitis skin conditio...  \n",
       "433  a at an angle photo of folliculitis skin condi...  \n",
       "434  a close up photo of folliculitis skin conditio...  \n",
       "435  a at distance photo of folliculitis skin condi...  \n",
       "436  a close up photo of folliculitis skin conditio...  \n",
       "\n",
       "[437 rows x 2 columns]"
      ]
     },
     "execution_count": 22,
     "metadata": {},
     "output_type": "execute_result"
    }
   ],
   "source": [
    "metadata_df = pd.read_csv(metadata_path)\n",
    "metadata_df"
   ]
  },
  {
   "cell_type": "code",
   "execution_count": 23,
   "id": "45219a1d89fd4d8e",
   "metadata": {
    "ExecuteTime": {
     "end_time": "2024-08-08T21:40:42.124438Z",
     "start_time": "2024-08-08T21:40:42.087289Z"
    }
   },
   "outputs": [
    {
     "name": "stdout",
     "output_type": "stream",
     "text": [
      "<class 'pandas.core.frame.DataFrame'>\n",
      "RangeIndex: 437 entries, 0 to 436\n",
      "Data columns (total 2 columns):\n",
      " #   Column      Non-Null Count  Dtype \n",
      "---  ------      --------------  ----- \n",
      " 0   image_path  437 non-null    object\n",
      " 1   text        437 non-null    object\n",
      "dtypes: object(2)\n",
      "memory usage: 7.0+ KB\n"
     ]
    }
   ],
   "source": [
    "metadata_df.info()"
   ]
  },
  {
   "cell_type": "code",
   "execution_count": null,
   "id": "930fa0a863d24ad6",
   "metadata": {},
   "outputs": [],
   "source": []
  }
 ],
 "metadata": {
  "kernelspec": {
   "display_name": "Python 3 (ipykernel)",
   "language": "python",
   "name": "python3"
  },
  "language_info": {
   "codemirror_mode": {
    "name": "ipython",
    "version": 3
   },
   "file_extension": ".py",
   "mimetype": "text/x-python",
   "name": "python",
   "nbconvert_exporter": "python",
   "pygments_lexer": "ipython3",
   "version": "3.11.9"
  }
 },
 "nbformat": 4,
 "nbformat_minor": 5
}
